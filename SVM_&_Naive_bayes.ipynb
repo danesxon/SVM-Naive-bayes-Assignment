{
  "nbformat": 4,
  "nbformat_minor": 0,
  "metadata": {
    "colab": {
      "provenance": []
    },
    "kernelspec": {
      "name": "python3",
      "display_name": "Python 3"
    },
    "language_info": {
      "name": "python"
    }
  },
  "cells": [
    {
      "cell_type": "markdown",
      "source": [
        "# SVM & Naive bayes Assignmnt\n",
        "\n",
        "SVM & Naive Bayes Assignment Answers\n",
        "\n",
        "Theoretical Questions\n",
        "\n",
        "1. What is a Support Vector Machine (SVM)?\n",
        "\n",
        "A Support Vector Machine (SVM) is a supervised machine learning algorithm used for classification and regression. It finds the optimal hyperplane that best separates classes (for classification) or predicts continuous values (for regression) by maximizing the margin between the closest data points (support vectors) and the hyperplane. For non-linearly separable data, SVM uses the kernel trick to transform data into a higher-dimensional space.\n",
        "\n",
        "2. What is the difference between Hard Margin and Soft Margin SVM?\n",
        "\n",
        "Hard Margin SVM:\n",
        "Assumes data is perfectly linearly separable with no misclassifications.\n",
        "Maximizes the margin (distance between hyperplane and nearest points) without allowing any data points within the margin or on the wrong side.\n",
        "Fails if data contains noise or outliers.\n",
        "\n",
        "\n",
        "Soft Margin SVM:\n",
        "Allows some misclassifications or violations of the margin to handle noisy or non-linearly separable data.\n",
        "Introduces a penalty parameter (C) to balance margin maximization and classification errors.\n",
        "More robust and practical for real-world datasets.\n",
        "\n",
        "\n",
        "\n",
        "3. What is the mathematical intuition behind SVM?\n",
        "\n",
        "SVM aims to find the hyperplane that maximizes the margin between classes. Mathematically:\n",
        "\n",
        "For a hyperplane defined by (w \\cdot x + b = 0), the margin is proportional to (1/|w|).\n",
        "Hard Margin SVM solves:[\\min_{w,b} \\frac{1}{2} |w|^2 \\text{ subject to } y_i(w \\cdot x_i + b) \\geq 1]\n",
        "Soft Margin SVM adds a slack variable (\\xi_i) to allow misclassifications:[\\min_{w,b,\\xi} \\frac{1}{2} |w|^2 + C \\sum \\xi_i \\text{ subject to } y_i(w \\cdot x_i + b) \\geq 1 - \\xi_i, \\xi_i \\geq 0]\n",
        "The kernel trick maps data to a higher-dimensional space for non-linear separation.\n",
        "\n",
        "4. What is the role of Lagrange Multipliers in SVM?\n",
        "\n",
        "Lagrange Multipliers are used to solve the constrained optimization problem in SVM. The goal is to minimize the objective function (e.g., (\\frac{1}{2} |w|^2)) subject to constraints (e.g., (y_i(w \\cdot x_i + b) \\geq 1)). The Lagrangian reformulates this as an unconstrained problem:[L(w, b, \\alpha) = \\frac{1}{2} |w|^2 - \\sum \\alpha_i [y_i(w \\cdot x_i + b) - 1]]where (\\alpha_i) are Lagrange Multipliers. Solving this (via dual optimization) identifies support vectors ((\\alpha_i > 0)) and determines the optimal hyperplane.\n",
        "\n",
        "5. What are Support Vectors in SVM?\n",
        "\n",
        "Support Vectors are the data points closest to the hyperplane that define the margin. They lie on or within the margin boundaries (i.e., satisfy (y_i(w \\cdot x_i + b) = 1) for Hard Margin or (y_i(w \\cdot x_i + b) \\leq 1) for Soft Margin). These points are critical because:\n",
        "\n",
        "They determine the position and orientation of the hyperplane.\n",
        "Only support vectors influence the model; other points have no effect.\n",
        "\n",
        "6. What is a Support Vector Classifier (SVC)?\n",
        "\n",
        "A Support Vector Classifier (SVC) is the classification variant of SVM. It finds the hyperplane that maximizes the margin between classes, using either Hard or Soft Margin approaches. SVC can handle non-linear data via the kernel trick (e.g., RBF, Polynomial kernels) and is implemented in scikit-learn as SVC.\n",
        "\n",
        "7. What is a Support Vector Regressor (SVR)?\n",
        "\n",
        "A Support Vector Regressor (SVR) is the regression variant of SVM. It predicts continuous values by finding a function that predicts target values within a margin of tolerance ((\\epsilon)) while minimizing the norm of the weight vector. SVR uses:\n",
        "\n",
        "Epsilon-tube: Predictions within (\\epsilon) of the true value incur no penalty.\n",
        "Slack variables: Allow deviations outside the tube, penalized by the (C) parameter.The objective is:[\\min_{w,b,\\xi,\\xi^} \\frac{1}{2} |w|^2 + C \\sum (\\xi_i + \\xi_i^) \\text{ subject to } |y_i - (w \\cdot x_i + b)| \\leq \\epsilon + \\xi_i, \\xi_i, \\xi_i^* \\geq 0]\n",
        "\n",
        "8. What is the Kernel Trick in SVM?\n",
        "\n",
        "The Kernel Trick allows SVM to handle non-linearly separable data by implicitly mapping it to a higher-dimensional space where a linear boundary exists, without computing the transformation explicitly. It uses a kernel function (K(x_i, x_j)) to compute the dot product in the higher-dimensional space. Common kernels include:\n",
        "\n",
        "Linear: (K(x_i, x_j) = x_i \\cdot x_j)\n",
        "Polynomial: (K(x_i, x_j) = (x_i \\cdot x_j + c)^d)\n",
        "RBF: (K(x_i, x_j) = \\exp(-\\gamma |x_i - x_j|^2))This reduces computational cost while enabling non-linear classification.\n",
        "\n",
        "9. Compare Linear Kernel, Polynomial Kernel, and RBF Kernel.\n",
        "\n",
        "Linear Kernel:\n",
        "(K(x_i, x_j) = x_i \\cdot x_j)\n",
        "Assumes data is linearly separable.\n",
        "Fastest and simplest, suitable for high-dimensional data.\n",
        "\n",
        "\n",
        "Polynomial Kernel:\n",
        "(K(x_i, x_j) = (x_i \\cdot x_j + c)^d)\n",
        "Captures polynomial relationships (degree (d)).\n",
        "More flexible but computationally intensive; risk of overfitting with high (d).\n",
        "\n",
        "\n",
        "RBF (Radial Basis Function) Kernel:\n",
        "(K(x_i, x_j) = \\exp(-\\gamma |x_i - x_j|^2))\n",
        "Models complex, non-linear relationships.\n",
        "Most flexible, controlled by (\\gamma); performs well on many datasets but sensitive to parameter tuning.\n",
        "\n",
        "\n",
        "\n",
        "10. What is the effect of the C parameter in SVM?\n",
        "\n",
        "The (C) parameter in SVM controls the trade-off between maximizing the margin and minimizing classification errors:\n",
        "\n",
        "High (C): Low margin, fewer misclassifications (closer to Hard Margin), but risks overfitting.\n",
        "Low (C): Larger margin, allows more misclassifications (Soft Margin), improving generalization but risking underfitting.\n",
        "In SVR, (C) controls the penalty for deviations outside the (\\epsilon)-tube.\n",
        "\n",
        "11. What is the role of the Gamma parameter in RBF Kernel SVM?\n",
        "\n",
        "The (\\gamma) parameter in the RBF kernel ((K(x_i, x_j) = \\exp(-\\gamma |x_i - x_j|^2))) defines the influence of a single training example:\n",
        "\n",
        "High (\\gamma): Narrow Gaussian, points must be close to influence each other, leading to complex boundaries (risk of overfitting).\n",
        "Low (\\gamma): Wider Gaussian, points farther apart influence each other, leading to smoother boundaries (risk of underfitting).(\\gamma) controls the model’s flexibility and sensitivity to individual data points.\n",
        "\n",
        "12. What is the Naïve Bayes classifier, and why is it called \"Naïve\"?\n",
        "\n",
        "The Naïve Bayes classifier is a probabilistic algorithm based on Bayes’ Theorem, used for classification. It predicts the class with the highest posterior probability given the features. It is called \"Naïve\" because it assumes all features are conditionally independent given the class label, which is often unrealistic but simplifies computations.\n",
        "\n",
        "13. What is Bayes' Theorem?\n",
        "\n",
        "Bayes’ Theorem describes the probability of an event based on prior knowledge:[P(A|B) = \\frac{P(B|A) P(A)}{P(B)}]In Naïve Bayes:\n",
        "\n",
        "(P(A|B)): Posterior probability of class (A) given features (B).\n",
        "(P(B|A)): Likelihood of features given the class.\n",
        "(P(A)): Prior probability of the class.\n",
        "(P(B)): Evidence (normalizing constant).For classification, it computes (P(\\text{class}| \\text{features})).\n",
        "\n",
        "14. Explain the differences between Gaussian Naïve Bayes, Multinomial Naïve Bayes, and Bernoulli Naïve Bayes.\n",
        "\n",
        "Gaussian Naïve Bayes:\n",
        "Assumes continuous features follow a Gaussian (normal) distribution.\n",
        "Models likelihood as (P(x_i|\\text{class}) = \\frac{1}{\\sqrt{2\\pi\\sigma^2}} \\exp\\left(-\\frac{(x_i - \\mu)^2}{2\\sigma^2}\\right)).\n",
        "Suitable for continuous data (e.g., measurements).\n",
        "\n",
        "\n",
        "Multinomial Naïve Bayes:\n",
        "Assumes features represent counts or frequencies (e.g., word counts in text).\n",
        "Models likelihood using a multinomial distribution.\n",
        "Common for text classification with bag-of-words models.\n",
        "\n",
        "\n",
        "Bernoulli Naïve Bayes:\n",
        "Assumes binary/boolean features (e.g., presence/absence of a word).\n",
        "Models likelihood using a Bernoulli distribution.\n",
        "Suitable for binary feature data, often used in text classification.\n",
        "\n",
        "\n",
        "\n",
        "15. When should you use Gaussian Naïve Bayes over other variants?\n",
        "Use Gaussian Naïve Bayes when:\n",
        "\n",
        "Features are continuous and approximately normally distributed.\n",
        "The dataset involves real-valued measurements (e.g., sensor data, medical metrics).\n",
        "Other variants (Multinomial, Bernoulli) are unsuitable due to non-count or non-binary features.It’s less effective if features deviate significantly from normality.\n",
        "\n",
        "16. What are the key assumptions made by Naïve Bayes?\n",
        "\n",
        "Conditional Independence: Features are independent given the class label.\n",
        "Feature Distribution: Each variant assumes a specific distribution (Gaussian, Multinomial, or Bernoulli).\n",
        "Equal Feature Importance: All features contribute equally to the outcome (implicitly).These assumptions simplify computation but may not hold in real-world data.\n",
        "\n",
        "17. What are the advantages and disadvantages of Naïve Bayes?\n",
        "Advantages:\n",
        "\n",
        "Simple and computationally efficient, even for large datasets.\n",
        "Works well with high-dimensional data (e.g., text).\n",
        "Robust to irrelevant features due to independence assumption.\n",
        "Performs well with small datasets and handles missing data.Disadvantages:\n",
        "Independence assumption often unrealistic, reducing accuracy.\n",
        "Poor performance with correlated features.\n",
        "Sensitive to imbalanced data unless adjusted.\n",
        "Limited to probabilistic predictions, less flexible for complex relationships.\n",
        "\n",
        "18. Why is Naïve Bayes a good choice for text classification?\n",
        "\n",
        "Naïve Bayes is ideal for text classification because:\n",
        "\n",
        "High-dimensional data: Handles large feature spaces (e.g., word counts) efficiently.\n",
        "Sparse data: Works well with sparse text data (e.g., bag-of-words).\n",
        "Fast training: Scales linearly with data size, suitable for large corpora.\n",
        "Effective with small data: Performs well even with limited labeled text.\n",
        "Handles categorical features: Multinomial and Bernoulli variants suit word counts or presence/absence.\n",
        "Robustness: Less sensitive to noise in text data.\n",
        "\n",
        "19. Compare SVM and Naïve Bayes for classification tasks.\n",
        "\n",
        "SVM:\n",
        "Models complex, non-linear boundaries using kernels.\n",
        "Maximizes margin, robust to outliers.\n",
        "Computationally intensive, especially with large datasets.\n",
        "Requires feature scaling and careful parameter tuning ((C), (\\gamma)).\n",
        "Better for smaller, complex datasets with correlated features.\n",
        "\n",
        "\n",
        "Naïve Bayes:\n",
        "Probabilistic model, assumes feature independence.\n",
        "Fast and scalable, ideal for large, high-dimensional datasets (e.g., text).\n",
        "No feature scaling required.\n",
        "Less accurate with correlated features or complex relationships.\n",
        "Better for text or simple datasets with independent features.Choice: Use SVM for complex, non-linear data; Naïve Bayes for text or large-scale, high-dimensional data.\n",
        "\n",
        "\n",
        "\n",
        "20. How does Laplace Smoothing help in Naïve Bayes?\n",
        "\n",
        "Laplace Smoothing (additive smoothing) addresses the issue of zero probabilities in Naïve Bayes when a feature-class combination is absent in the training data. It adds a small constant ((\\alpha), typically 1) to the numerator and denominator of probability estimates:[P(x_i|\\text{class}) = \\frac{\\text{count}(x_i, \\text{class}) + \\alpha}{\\text{count}(\\text{class}) + \\alpha \\cdot |\\text{vocabulary}|}]Benefits:\n",
        "\n",
        "Prevents zero probabilities, ensuring all feature combinations have non-zero likelihood.\n",
        "Improves robustness, especially with small or sparse datasets.\n",
        "Stabilizes predictions for unseen data.\n",
        "\n",
        "\n"
      ],
      "metadata": {
        "id": "r946SXnv3bLp"
      }
    },
    {
      "cell_type": "code",
      "source": [
        "## Practical Questions\n",
        "\n",
        "#21. Write a Python program to train an SVM Classifier on the Iris dataset and evaluate accuracy.\n",
        "from sklearn.datasets import load_iris\n",
        "from sklearn.model_selection import train_test_split\n",
        "from sklearn.svm import SVC\n",
        "from sklearn.metrics import accuracy_score\n",
        "\n",
        "# Load Iris dataset\n",
        "iris = load_iris()\n",
        "X, y = iris.data, iris.target\n",
        "\n",
        "# Split into training (70%) and testing (30%) sets\n",
        "X_train, X_test, y_train, y_test = train_test_split(X, y, test_size=0.3, random_state=42)\n",
        "\n",
        "# Initialize and train SVM Classifier with linear kernel\n",
        "clf = SVC(kernel='linear', random_state=42)\n",
        "clf.fit(X_train, y_train)\n",
        "\n",
        "# Predict on test set\n",
        "y_pred = clf.predict(X_test)\n",
        "\n",
        "# Calculate and print accuracy\n",
        "accuracy = accuracy_score(y_test, y_pred)\n",
        "print(f\"SVM Classifier Accuracy: {accuracy:.4f}\")"
      ],
      "metadata": {
        "colab": {
          "base_uri": "https://localhost:8080/"
        },
        "id": "fuN4WLuo38RZ",
        "outputId": "8562640a-5290-4a4e-dd25-2c2697ff7826"
      },
      "execution_count": 1,
      "outputs": [
        {
          "output_type": "stream",
          "name": "stdout",
          "text": [
            "SVM Classifier Accuracy: 1.0000\n"
          ]
        }
      ]
    },
    {
      "cell_type": "code",
      "source": [
        "#22. Write a Python program to train two SVM classifiers with Linear and RBF kernels on the Wine dataset, then compare their accuracies.\n",
        "from sklearn.datasets import load_wine\n",
        "from sklearn.model_selection import train_test_split\n",
        "from sklearn.svm import SVC\n",
        "from sklearn.metrics import accuracy_score\n",
        "\n",
        "# Load Wine dataset\n",
        "wine = load_wine()\n",
        "X, y = wine.data, wine.target\n",
        "\n",
        "# Split into training and testing sets\n",
        "X_train, X_test, y_train, y_test = train_test_split(X, y, test_size=0.3, random_state=42)\n",
        "\n",
        "# Train SVM with Linear kernel\n",
        "clf_linear = SVC(kernel='linear', random_state=42)\n",
        "clf_linear.fit(X_train, y_train)\n",
        "y_pred_linear = clf_linear.predict(X_test)\n",
        "accuracy_linear = accuracy_score(y_test, y_pred_linear)\n",
        "\n",
        "# Train SVM with RBF kernel\n",
        "clf_rbf = SVC(kernel='rbf', random_state=42)\n",
        "clf_rbf.fit(X_train, y_train)\n",
        "y_pred_rbf = clf_rbf.predict(X_test)\n",
        "accuracy_rbf = accuracy_score(y_test, y_pred_rbf)\n",
        "\n",
        "# Print accuracies\n",
        "print(f\"Accuracy with Linear Kernel: {accuracy_linear:.4f}\")\n",
        "print(f\"Accuracy with RBF Kernel: {accuracy_rbf:.4f}\")"
      ],
      "metadata": {
        "colab": {
          "base_uri": "https://localhost:8080/"
        },
        "id": "18gpyABn41DY",
        "outputId": "16b74169-30b8-478c-8b60-76536e78108d"
      },
      "execution_count": 2,
      "outputs": [
        {
          "output_type": "stream",
          "name": "stdout",
          "text": [
            "Accuracy with Linear Kernel: 0.9815\n",
            "Accuracy with RBF Kernel: 0.7593\n"
          ]
        }
      ]
    },
    {
      "cell_type": "code",
      "source": [
        "#23. Write a Python program to train an SVM Regressor (SVR) on a housing dataset and evaluate it using Mean Squared Error (MSE).\n",
        "from sklearn.datasets import fetch_california_housing\n",
        "from sklearn.model_selection import train_test_split\n",
        "from sklearn.svm import SVR\n",
        "from sklearn.metrics import mean_squared_error\n",
        "from sklearn.preprocessing import StandardScaler\n",
        "\n",
        "# Load California Housing dataset\n",
        "housing = fetch_california_housing()\n",
        "X, y = housing.data, housing.target\n",
        "\n",
        "# Split into training and testing sets\n",
        "X_train, X_test, y_train, y_test = train_test_split(X, y, test_size=0.3, random_state=42)\n",
        "\n",
        "# Scale features\n",
        "scaler = StandardScaler()\n",
        "X_train_scaled = scaler.fit_transform(X_train)\n",
        "X_test_scaled = scaler.transform(X_test)\n",
        "\n",
        "# Train SVR\n",
        "reg = SVR(kernel='rbf')\n",
        "reg.fit(X_train_scaled, y_train)\n",
        "\n",
        "# Predict and evaluate MSE\n",
        "y_pred = reg.predict(X_test_scaled)\n",
        "mse = mean_squared_error(y_test, y_pred)\n",
        "print(f\"Mean Squared Error: {mse:.4f}\")"
      ],
      "metadata": {
        "colab": {
          "base_uri": "https://localhost:8080/"
        },
        "id": "CraGe8B95BRE",
        "outputId": "1d4e53dd-d7d4-43a3-e41e-a4029a4e3811"
      },
      "execution_count": 3,
      "outputs": [
        {
          "output_type": "stream",
          "name": "stdout",
          "text": [
            "Mean Squared Error: 0.3496\n"
          ]
        }
      ]
    },
    {
      "cell_type": "code",
      "source": [
        "#24. Write a Python program to train an SVM Classifier with a Polynomial Kernel and visualize the decision boundary.\n",
        "from sklearn.datasets import load_iris\n",
        "from sklearn.model_selection import train_test_split\n",
        "from sklearn.svm import SVC\n",
        "from sklearn.preprocessing import StandardScaler\n",
        "import numpy as np\n",
        "import matplotlib.pyplot as plt\n",
        "\n",
        "# Load Iris dataset (use only two features for 2D visualization)\n",
        "iris = load_iris()\n",
        "X, y = iris.data[:, :2], iris.target  # Use first two features\n",
        "\n",
        "# Split into training and testing sets\n",
        "X_train, X_test, y_train, y_test = train_test_split(X, y, test_size=0.3, random_state=42)\n",
        "\n",
        "# Scale features\n",
        "scaler = StandardScaler()\n",
        "X_train_scaled = scaler.fit_transform(X_train)\n",
        "X_test_scaled = scaler.transform(X_test)\n",
        "\n",
        "# Train SVM with Polynomial kernel\n",
        "clf = SVC(kernel='poly', degree=3, random_state=42)\n",
        "clf.fit(X_train_scaled, y_train)\n",
        "\n",
        "# Create mesh grid for decision boundary\n",
        "x_min, x_max = X_train_scaled[:, 0].min() - 1, X_train_scaled[:, 0].max() + 1\n",
        "y_min, y_max = X_train_scaled[:, 1].min() - 1, X_train_scaled[:, 1].max() + 1\n",
        "xx, yy = np.meshgrid(np.arange(x_min, x_max, 0.02), np.arange(y_min, y_max, 0.02))\n",
        "\n",
        "# Predict on mesh grid\n",
        "Z = clf.predict(np.c_[xx.ravel(), yy.ravel()])\n",
        "Z = Z.reshape(xx.shape)\n",
        "\n",
        "# Plot decision boundary\n",
        "plt.contourf(xx, yy, Z, alpha=0.3, cmap='viridis')\n",
        "plt.scatter(X_train_scaled[:, 0], X_train_scaled[:, 1], c=y_train, edgecolors='k', cmap='viridis')\n",
        "plt.xlabel(iris.feature_names[0])\n",
        "plt.ylabel(iris.feature_names[1])\n",
        "plt.title('SVM Decision Boundary with Polynomial Kernel')\n",
        "plt.show()"
      ],
      "metadata": {
        "colab": {
          "base_uri": "https://localhost:8080/",
          "height": 472
        },
        "id": "WsCYxNt35HiM",
        "outputId": "61f0d29c-d4e8-4eea-99a8-72db5ac7b9ab"
      },
      "execution_count": 4,
      "outputs": [
        {
          "output_type": "display_data",
          "data": {
            "text/plain": [
              "<Figure size 640x480 with 1 Axes>"
            ],
            "image/png": "[encoded data removed]"
          },
          "metadata": {}
        }
      ]
    },
    {
      "cell_type": "code",
      "source": [
        "#25. Write a Python program to train a Gaussian Naïve Bayes classifier on the Breast Cancer dataset and evaluate accuracy.\n",
        "from sklearn.datasets import load_breast_cancer\n",
        "from sklearn.model_selection import train_test_split\n",
        "from sklearn.naive_bayes import GaussianNB\n",
        "from sklearn.metrics import accuracy_score\n",
        "\n",
        "# Load Breast Cancer dataset\n",
        "cancer = load_breast_cancer()\n",
        "X, y = cancer.data, cancer.target\n",
        "\n",
        "# Split into training and testing sets\n",
        "X_train, X_test, y_train, y_test = train_test_split(X, y, test_size=0.3, random_state=42)\n",
        "\n",
        "# Train Gaussian Naïve Bayes\n",
        "clf = GaussianNB()\n",
        "clf.fit(X_train, y_train)\n",
        "\n",
        "# Predict and evaluate accuracy\n",
        "y_pred = clf.predict(X_test)\n",
        "accuracy = accuracy_score(y_test, y_pred)\n",
        "print(f\"Gaussian Naïve Bayes Accuracy: {accuracy:.4f}\")"
      ],
      "metadata": {
        "colab": {
          "base_uri": "https://localhost:8080/"
        },
        "id": "_ZVPsd8J5Qgj",
        "outputId": "d347629a-4dac-4334-d7f3-9a978dc14085"
      },
      "execution_count": 5,
      "outputs": [
        {
          "output_type": "stream",
          "name": "stdout",
          "text": [
            "Gaussian Naïve Bayes Accuracy: 0.9415\n"
          ]
        }
      ]
    },
    {
      "cell_type": "code",
      "source": [
        "#26. Write a Python program to train a Multinomial Naïve Bayes classifier for text classification using the 20 Newsgroups dataset.\n",
        "from sklearn.datasets import fetch_20newsgroups\n",
        "from sklearn.feature_extraction.text import TfidfVectorizer\n",
        "from sklearn.naive_bayes import MultinomialNB\n",
        "from sklearn.metrics import accuracy_score\n",
        "\n",
        "# Load 20 Newsgroups dataset (subset for simplicity)\n",
        "categories = ['alt.atheism', 'soc.religion.christian']\n",
        "newsgroups = fetch_20newsgroups(subset='all', categories=categories, remove=('headers', 'footers', 'quotes'))\n",
        "\n",
        "# Convert text to TF-IDF features\n",
        "vectorizer = TfidfVectorizer(max_features=1000)\n",
        "X = vectorizer.fit_transform(newsgroups.data)\n",
        "y = newsgroups.target\n",
        "\n",
        "# Split into training and testing sets\n",
        "X_train, X_test, y_train, y_test = train_test_split(X, y, test_size=0.3, random_state=42)\n",
        "\n",
        "# Train Multinomial Naïve Bayes\n",
        "clf = MultinomialNB()\n",
        "clf.fit(X_train, y_train)\n",
        "\n",
        "# Predict and evaluate accuracy\n",
        "y_pred = clf.predict(X_test)\n",
        "accuracy = accuracy_score(y_test, y_pred)\n",
        "print(f\"Multinomial Naïve Bayes Accuracy: {accuracy:.4f}\")"
      ],
      "metadata": {
        "colab": {
          "base_uri": "https://localhost:8080/"
        },
        "id": "IVZtUGin5V4A",
        "outputId": "dc20731d-4f85-4e92-9bf6-8c783ea31527"
      },
      "execution_count": 6,
      "outputs": [
        {
          "output_type": "stream",
          "name": "stdout",
          "text": [
            "Multinomial Naïve Bayes Accuracy: 0.8200\n"
          ]
        }
      ]
    },
    {
      "cell_type": "code",
      "source": [
        "#27. Write a Python program to train an SVM Classifier with different $C$ values and compare the decision boundaries visually.\n",
        "from sklearn.datasets import load_iris\n",
        "from sklearn.model_selection import train_test_split\n",
        "from sklearn.svm import SVC\n",
        "from sklearn.preprocessing import StandardScaler\n",
        "import numpy as np\n",
        "import matplotlib.pyplot as plt\n",
        "\n",
        "# Load Iris dataset (use two features for visualization)\n",
        "iris = load_iris()\n",
        "X, y = iris.data[:, :2], iris.target\n",
        "\n",
        "# Split into training and testing sets\n",
        "X_train, X_test, y_train, y_test = train_test_split(X, y, test_size=0.3, random_state=42)\n",
        "\n",
        "# Scale features\n",
        "scaler = StandardScaler()\n",
        "X_train_scaled = scaler.fit_transform(X_train)\n",
        "X_test_scaled = scaler.transform(X_test)\n",
        "\n",
        "# Different C values\n",
        "C_values = [0.1, 1, 10]\n",
        "plt.figure(figsize=(15, 5))\n",
        "\n",
        "# Train SVM and plot decision boundaries\n",
        "for i, C in enumerate(C_values, 1):\n",
        "    clf = SVC(kernel='linear', C=C, random_state=42)\n",
        "    clf.fit(X_train_scaled, y_train)\n",
        "\n",
        "    # Create mesh grid\n",
        "    x_min, x_max = X_train_scaled[:, 0].min() - 1, X_train_scaled[:, 0].max() + 1\n",
        "    y_min, y_max = X_train_scaled[:, 1].min() - 1, X_train_scaled[:, 1].max() + 1\n",
        "    xx, yy = np.meshgrid(np.arange(x_min, x_max, 0.02), np.arange(y_min, y_max, 0.02))\n",
        "\n",
        "    # Predict on mesh grid\n",
        "    Z = clf.predict(np.c_[xx.ravel(), yy.ravel()])\n",
        "    Z = Z.reshape(xx.shape)\n",
        "\n",
        "    # Plot decision boundary\n",
        "    plt.subplot(1, 3, i)\n",
        "    plt.contourf(xx, yy, Z, alpha=0.3, cmap='viridis')\n",
        "    plt.scatter(X_train_scaled[:, 0], X_train_scaled[:, 1], c=y_train, edgecolors='k', cmap='viridis')\n",
        "    plt.title(f'SVM Decision Boundary (C={C})')\n",
        "    plt.xlabel(iris.feature_names[0])\n",
        "    plt.ylabel(iris.feature_names[1])\n",
        "\n",
        "plt.tight_layout()\n",
        "plt.show()"
      ],
      "metadata": {
        "colab": {
          "base_uri": "https://localhost:8080/",
          "height": 500
        },
        "id": "MEhBHR3x5bPn",
        "outputId": "e8e07722-7a8e-405e-f7dd-5960ffcd3cc8"
      },
      "execution_count": 7,
      "outputs": [
        {
          "output_type": "display_data",
          "data": {
            "text/plain": [
              "<Figure size 1500x500 with 3 Axes>"
            ],
            "image/png": "[encoded data removed]"
          },
          "metadata": {}
        }
      ]
    },
    {
      "cell_type": "code",
      "source": [
        "#28. Write a Python program to train a Bernoulli Naïve Bayes classifier for binary classification on a dataset with binary features.\n",
        "from sklearn.datasets import make_classification\n",
        "from sklearn.model_selection import train_test_split\n",
        "from sklearn.naive_bayes import BernoulliNB\n",
        "from sklearn.metrics import accuracy_score\n",
        "import numpy as np\n",
        "\n",
        "# Generate binary classification dataset with binary features\n",
        "X, y = make_classification(n_samples=1000, n_features=10, n_classes=2, random_state=42)\n",
        "X = (X > 0).astype(int)  # Convert to binary features (0 or 1)\n",
        "\n",
        "# Split into training and testing sets\n",
        "X_train, X_test, y_train, y_test = train_test_split(X, y, test_size=0.3, random_state=42)\n",
        "\n",
        "# Train Bernoulli Naïve Bayes\n",
        "clf = BernoulliNB()\n",
        "clf.fit(X_train, y_train)\n",
        "\n",
        "# Predict and evaluate accuracy\n",
        "y_pred = clf.predict(X_test)\n",
        "accuracy = accuracy_score(y_test, y_pred)\n",
        "print(f\"Bernoulli Naïve Bayes Accuracy: {accuracy:.4f}\")"
      ],
      "metadata": {
        "colab": {
          "base_uri": "https://localhost:8080/"
        },
        "id": "Q1GSAS_L5gck",
        "outputId": "619af54a-e7d0-4349-fc31-217323503752"
      },
      "execution_count": 8,
      "outputs": [
        {
          "output_type": "stream",
          "name": "stdout",
          "text": [
            "Bernoulli Naïve Bayes Accuracy: 0.8167\n"
          ]
        }
      ]
    },
    {
      "cell_type": "code",
      "source": [
        "#29. Write a Python program to apply feature scaling before training an SVM model and compare results with unscaled data.\n",
        "from sklearn.datasets import load_iris\n",
        "from sklearn.model_selection import train_test_split\n",
        "from sklearn.svm import SVC\n",
        "from sklearn.preprocessing import StandardScaler\n",
        "from sklearn.metrics import accuracy_score\n",
        "\n",
        "# Load Iris dataset\n",
        "iris = load_iris()\n",
        "X, y = iris.data, iris.target\n",
        "\n",
        "# Split into training and testing sets\n",
        "X_train, X_test, y_train, y_test = train_test_split(X, y, test_size=0.3, random_state=42)\n",
        "\n",
        "# Train SVM on unscaled data\n",
        "clf_unscaled = SVC(kernel='rbf', random_state=42)\n",
        "clf_unscaled.fit(X_train, y_train)\n",
        "y_pred_unscaled = clf_unscaled.predict(X_test)\n",
        "accuracy_unscaled = accuracy_score(y_test, y_pred_unscaled)\n",
        "\n",
        "# Apply feature scaling\n",
        "scaler = StandardScaler()\n",
        "X_train_scaled = scaler.fit_transform(X_train)\n",
        "X_test_scaled = scaler.transform(X_test)\n",
        "\n",
        "# Train SVM on scaled data\n",
        "clf_scaled = SVC(kernel='rbf', random_state=42)\n",
        "clf_scaled.fit(X_train_scaled, y_train)\n",
        "y_pred_scaled = clf_scaled.predict(X_test_scaled)\n",
        "accuracy_scaled = accuracy_score(y_test, y_pred_scaled)\n",
        "\n",
        "# Print accuracies\n",
        "print(f\"Accuracy with Unscaled Data: {accuracy_unscaled:.4f}\")\n",
        "print(f\"Accuracy with Scaled Data: {accuracy_scaled:.4f}\")"
      ],
      "metadata": {
        "colab": {
          "base_uri": "https://localhost:8080/"
        },
        "id": "WZcEGRuG5mou",
        "outputId": "9882ec70-d0c4-4510-ffbb-811a2a57368f"
      },
      "execution_count": 9,
      "outputs": [
        {
          "output_type": "stream",
          "name": "stdout",
          "text": [
            "Accuracy with Unscaled Data: 1.0000\n",
            "Accuracy with Scaled Data: 1.0000\n"
          ]
        }
      ]
    },
    {
      "cell_type": "code",
      "source": [
        "#30. Write a Python program to train a Gaussian Naïve Bayes model and compare the predictions before and after Laplace Smoothing.\n",
        "from sklearn.datasets import load_breast_cancer\n",
        "from sklearn.model_selection import train_test_split\n",
        "from sklearn.naive_bayes import GaussianNB\n",
        "from sklearn.metrics import accuracy_score\n",
        "\n",
        "# Load Breast Cancer dataset\n",
        "cancer = load_breast_cancer()\n",
        "X, y = cancer.data, cancer.target\n",
        "\n",
        "# Split into training and testing sets\n",
        "X_train, X_test, y_train, y_test = train_test_split(X, y, test_size=0.3, random_state=42)\n",
        "\n",
        "# Train Gaussian Naïve Bayes without smoothing (default)\n",
        "clf_no_smooth = GaussianNB(var_smoothing=0)\n",
        "clf_no_smooth.fit(X_train, y_train)\n",
        "y_pred_no_smooth = clf_no_smooth.predict(X_test)\n",
        "accuracy_no_smooth = accuracy_score(y_test, y_pred_no_smooth)\n",
        "\n",
        "# Train Gaussian Naïve Bayes with smoothing\n",
        "clf_smooth = GaussianNB(var_smoothing=1e-9)\n",
        "clf_smooth.fit(X_train, y_train)\n",
        "y_pred_smooth = clf_smooth.predict(X_test)\n",
        "accuracy_smooth = accuracy_score(y_test, y_pred_smooth)\n",
        "\n",
        "# Print accuracies\n",
        "print(f\"Accuracy without Smoothing: {accuracy_no_smooth:.4f}\")\n",
        "print(f\"Accuracy with Smoothing: {accuracy_smooth:.4f}\")"
      ],
      "metadata": {
        "colab": {
          "base_uri": "https://localhost:8080/"
        },
        "id": "EwFAGOAe5sK6",
        "outputId": "f32b8c10-8636-47e6-c164-121be4600471"
      },
      "execution_count": 10,
      "outputs": [
        {
          "output_type": "stream",
          "name": "stdout",
          "text": [
            "Accuracy without Smoothing: 0.9357\n",
            "Accuracy with Smoothing: 0.9415\n"
          ]
        }
      ]
    },
    {
      "cell_type": "code",
      "source": [
        "#31. Write a Python program to train an SVM Classifier and use GridSearchCV to tune the hyperparameters (C, gamma, kernel).\n",
        "from sklearn.datasets import load_iris\n",
        "from sklearn.model_selection import train_test_split, GridSearchCV\n",
        "from sklearn.svm import SVC\n",
        "from sklearn.metrics import accuracy_score\n",
        "\n",
        "# Load Iris dataset\n",
        "iris = load_iris()\n",
        "X, y = iris.data, iris.target\n",
        "\n",
        "# Split into training and testing sets\n",
        "X_train, X_test, y_train, y_test = train_test_split(X, y, test_size=0.3, random_state=42)\n",
        "\n",
        "# Define parameter grid\n",
        "param_grid = {'C': [0.1, 1, 10], 'gamma': ['scale', 'auto', 0.1, 1], 'kernel': ['linear', 'rbf']}\n",
        "\n",
        "# Train SVM with GridSearchCV\n",
        "clf = SVC(random_state=42)\n",
        "grid_search = GridSearchCV(clf, param_grid, cv=5, scoring='accuracy')\n",
        "grid_search.fit(X_train, y_train)\n",
        "\n",
        "# Print best parameters and accuracy\n",
        "print(f\"Best Parameters: {grid_search.best_params_}\")\n",
        "y_pred = grid_search.predict(X_test)\n",
        "accuracy = accuracy_score(y_test, y_pred)\n",
        "print(f\"Accuracy with Best Parameters: {accuracy:.4f}\")"
      ],
      "metadata": {
        "colab": {
          "base_uri": "https://localhost:8080/"
        },
        "id": "ul1HtvK35x6c",
        "outputId": "34f9c949-9dd0-440f-c0de-2e60f1f847d3"
      },
      "execution_count": 11,
      "outputs": [
        {
          "output_type": "stream",
          "name": "stdout",
          "text": [
            "Best Parameters: {'C': 1, 'gamma': 'scale', 'kernel': 'linear'}\n",
            "Accuracy with Best Parameters: 1.0000\n"
          ]
        }
      ]
    },
    {
      "cell_type": "code",
      "source": [
        "#32. Write a Python program to train an SVM Classifier on an imbalanced dataset and apply class weighting and check if it improves accuracy.\n",
        "from sklearn.datasets import make_classification\n",
        "from sklearn.model_selection import train_test_split\n",
        "from sklearn.svm import SVC\n",
        "from sklearn.metrics import accuracy_score\n",
        "\n",
        "# Generate imbalanced dataset\n",
        "X, y = make_classification(n_samples=1000, n_classes=2, weights=[0.9, 0.1], random_state=42)\n",
        "\n",
        "# Split into training and testing sets\n",
        "X_train, X_test, y_train, y_test = train_test_split(X, y, test_size=0.3, random_state=42)\n",
        "\n",
        "# Train SVM without class weighting\n",
        "clf_no_weight = SVC(kernel='rbf', random_state=42)\n",
        "clf_no_weight.fit(X_train, y_train)\n",
        "y_pred_no_weight = clf_no_weight.predict(X_test)\n",
        "accuracy_no_weight = accuracy_score(y_test, y_pred_no_weight)\n",
        "\n",
        "# Train SVM with class weighting\n",
        "clf_weighted = SVC(kernel='rbf', class_weight='balanced', random_state=42)\n",
        "clf_weighted.fit(X_train, y_train)\n",
        "y_pred_weighted = clf_weighted.predict(X_test)\n",
        "accuracy_weighted = accuracy_score(y_test, y_pred_weighted)\n",
        "\n",
        "# Print accuracies\n",
        "print(f\"Accuracy without Class Weighting: {accuracy_no_weight:.4f}\")\n",
        "print(f\"Accuracy with Class Weighting: {accuracy_weighted:.4f}\")"
      ],
      "metadata": {
        "colab": {
          "base_uri": "https://localhost:8080/"
        },
        "id": "6BJXk1jA53Cl",
        "outputId": "44baa0fa-060a-4aa9-ad49-5bf4513601b6"
      },
      "execution_count": 12,
      "outputs": [
        {
          "output_type": "stream",
          "name": "stdout",
          "text": [
            "Accuracy without Class Weighting: 0.9100\n",
            "Accuracy with Class Weighting: 0.9000\n"
          ]
        }
      ]
    },
    {
      "cell_type": "code",
      "source": [
        "#33. Write a Python program to implement a Naïve Bayes classifier for spam detection using email data.\n",
        "from sklearn.feature_extraction.text import TfidfVectorizer\n",
        "from sklearn.naive_bayes import MultinomialNB\n",
        "from sklearn.model_selection import train_test_split\n",
        "from sklearn.metrics import accuracy_score\n",
        "import pandas as pd\n",
        "\n",
        "# Load a sample spam dataset (using a simple dataset for demonstration)\n",
        "# For real-world use, replace with a spam email dataset (e.g., Enron or UCI Spam)\n",
        "data = pd.DataFrame({\n",
        "    'text': ['win prize now', 'meeting tomorrow', 'free offer click', 'project deadline', 'claim your reward'],\n",
        "    'label': [1, 0, 1, 0, 1]  # 1: spam, 0: ham\n",
        "})\n",
        "\n",
        "# Convert text to TF-IDF features\n",
        "vectorizer = TfidfVectorizer()\n",
        "X = vectorizer.fit_transform(data['text'])\n",
        "y = data['label']\n",
        "\n",
        "# Split into training and testing sets\n",
        "X_train, X_test, y_train, y_test = train_test_split(X, y, test_size=0.3, random_state=42)\n",
        "\n",
        "# Train Multinomial Naïve Bayes\n",
        "clf = MultinomialNB()\n",
        "clf.fit(X_train, y_train)\n",
        "\n",
        "# Predict and evaluate accuracy\n",
        "y_pred = clf.predict(X_test)\n",
        "accuracy = accuracy_score(y_test, y_pred)\n",
        "print(f\"Naïve Bayes Accuracy for Spam Detection: {accuracy:.4f}\")"
      ],
      "metadata": {
        "colab": {
          "base_uri": "https://localhost:8080/"
        },
        "id": "UfCHmEZP579g",
        "outputId": "f4cb3a5c-f69b-485d-cc21-cb769b6143a2"
      },
      "execution_count": 13,
      "outputs": [
        {
          "output_type": "stream",
          "name": "stdout",
          "text": [
            "Naïve Bayes Accuracy for Spam Detection: 0.5000\n"
          ]
        }
      ]
    },
    {
      "cell_type": "code",
      "source": [
        "#34. Write a Python program to train an SVM Classifier and a Naïve Bayes Classifier on the same dataset and compare their accuracy.\n",
        "from sklearn.datasets import load_breast_cancer\n",
        "from sklearn.model_selection import train_test_split\n",
        "from sklearn.svm import SVC\n",
        "from sklearn.naive_bayes import GaussianNB\n",
        "from sklearn.metrics import accuracy_score\n",
        "\n",
        "# Load Breast Cancer dataset\n",
        "cancer = load_breast_cancer()\n",
        "X, y = cancer.data, cancer.target\n",
        "\n",
        "# Split into training and testing sets\n",
        "X_train, X_test, y_train, y_test = train_test_split(X, y, test_size=0.3, random_state=42)\n",
        "\n",
        "# Train SVM Classifier\n",
        "clf_svm = SVC(kernel='rbf', random_state=42)\n",
        "clf_svm.fit(X_train, y_train)\n",
        "y_pred_svm = clf_svm.predict(X_test)\n",
        "accuracy_svm = accuracy_score(y_test, y_pred_svm)\n",
        "\n",
        "# Train Gaussian Naïve Bayes\n",
        "clf_nb = GaussianNB()\n",
        "clf_nb.fit(X_train, y_train)\n",
        "y_pred_nb = clf_nb.predict(X_test)\n",
        "accuracy_nb = accuracy_score(y_test, y_pred_nb)\n",
        "\n",
        "# Print accuracies\n",
        "print(f\"SVM Classifier Accuracy: {accuracy_svm:.4f}\")\n",
        "print(f\"Naïve Bayes Accuracy: {accuracy_nb:.4f}\")"
      ],
      "metadata": {
        "colab": {
          "base_uri": "https://localhost:8080/"
        },
        "id": "Tp2t1iEq6BFy",
        "outputId": "e204cf56-b31b-4ff2-97f3-bb6534ee49bb"
      },
      "execution_count": 14,
      "outputs": [
        {
          "output_type": "stream",
          "name": "stdout",
          "text": [
            "SVM Classifier Accuracy: 0.9357\n",
            "Naïve Bayes Accuracy: 0.9415\n"
          ]
        }
      ]
    },
    {
      "cell_type": "code",
      "source": [
        "#35. Write a Python program to perform feature selection before training a Naïve Bayes classifier and compare results.\n",
        "from sklearn.datasets import load_breast_cancer\n",
        "from sklearn.model_selection import train_test_split\n",
        "from sklearn.naive_bayes import GaussianNB\n",
        "from sklearn.feature_selection import SelectKBest, f_classif\n",
        "from sklearn.metrics import accuracy_score\n",
        "\n",
        "# Load Breast Cancer dataset\n",
        "cancer = load_breast_cancer()\n",
        "X, y = cancer.data, cancer.target\n",
        "\n",
        "# Split into training and testing sets\n",
        "X_train, X_test, y_train, y_test = train_test_split(X, y, test_size=0.3, random_state=42)\n",
        "\n",
        "# Train Naïve Bayes without feature selection\n",
        "clf_no_select = GaussianNB()\n",
        "clf_no_select.fit(X_train, y_train)\n",
        "y_pred_no_select = clf_no_select.predict(X_test)\n",
        "accuracy_no_select = accuracy_score(y_test, y_pred_no_select)\n",
        "\n",
        "# Perform feature selection\n",
        "selector = SelectKBest(score_func=f_classif, k=10)\n",
        "X_train_selected = selector.fit_transform(X_train, y_train)\n",
        "X_test_selected = selector.transform(X_test)\n",
        "\n",
        "# Train Naïve Bayes with feature selection\n",
        "clf_select = GaussianNB()\n",
        "clf_select.fit(X_train_selected, y_train)\n",
        "y_pred_select = clf_select.predict(X_test_selected)\n",
        "accuracy_select = accuracy_score(y_test, y_pred_select)\n",
        "\n",
        "# Print accuracies\n",
        "print(f\"Accuracy without Feature Selection: {accuracy_no_select:.4f}\")\n",
        "print(f\"Accuracy with Feature Selection: {accuracy_select:.4f}\")"
      ],
      "metadata": {
        "colab": {
          "base_uri": "https://localhost:8080/"
        },
        "id": "4DP3uusR6F4e",
        "outputId": "fe7762fc-0758-452c-8055-7f0026e87aa8"
      },
      "execution_count": 15,
      "outputs": [
        {
          "output_type": "stream",
          "name": "stdout",
          "text": [
            "Accuracy without Feature Selection: 0.9415\n",
            "Accuracy with Feature Selection: 0.9591\n"
          ]
        }
      ]
    },
    {
      "cell_type": "code",
      "source": [
        "#36. Write a Python program to train an SVM Classifier using One-vs-Rest (OvR) and One-vs-One (OvO) strategies on the Wine dataset and compare their accuracy.\n",
        "from sklearn.datasets import load_wine\n",
        "from sklearn.model_selection import train_test_split\n",
        "from sklearn.svm import SVC\n",
        "from sklearn.multiclass import OneVsRestClassifier, OneVsOneClassifier\n",
        "from sklearn.metrics import accuracy_score\n",
        "\n",
        "# Load Wine dataset\n",
        "wine = load_wine()\n",
        "X, y = wine.data, wine.target\n",
        "\n",
        "# Split into training and testing sets\n",
        "X_train, X_test, y_train, y_test = train_test_split(X, y, test_size=0.3, random_state=42)\n",
        "\n",
        "# Train SVM with OvR\n",
        "clf_ovr = OneVsRestClassifier(SVC(kernel='rbf', random_state=42))\n",
        "clf_ovr.fit(X_train, y_train)\n",
        "y_pred_ovr = clf_ovr.predict(X_test)\n",
        "accuracy_ovr = accuracy_score(y_test, y_pred_ovr)\n",
        "\n",
        "# Train SVM with OvO\n",
        "clf_ovo = OneVsOneClassifier(SVC(kernel='rbf', random_state=42))\n",
        "clf_ovo.fit(X_train, y_train)\n",
        "y_pred_ovo = clf_ovo.predict(X_test)\n",
        "accuracy_ovo = accuracy_score(y_test, y_pred_ovo)\n",
        "\n",
        "# Print accuracies\n",
        "print(f\"Accuracy with OvR: {accuracy_ovr:.4f}\")\n",
        "print(f\"Accuracy with OvO: {accuracy_ovo:.4f}\")"
      ],
      "metadata": {
        "colab": {
          "base_uri": "https://localhost:8080/"
        },
        "id": "1u9wR8Qc6L_M",
        "outputId": "5e663088-2bdf-4cad-92e6-5c2dc79d9101"
      },
      "execution_count": 16,
      "outputs": [
        {
          "output_type": "stream",
          "name": "stdout",
          "text": [
            "Accuracy with OvR: 0.7222\n",
            "Accuracy with OvO: 0.7963\n"
          ]
        }
      ]
    },
    {
      "cell_type": "code",
      "source": [
        "#37. Write a Python program to train an SVM Classifier using Linear, Polynomial, and RBF kernels on the Breast Cancer dataset and compare their accuracy.\n",
        "from sklearn.datasets import load_breast_cancer\n",
        "from sklearn.model_selection import train_test_split\n",
        "from sklearn.svm import SVC\n",
        "from sklearn.metrics import accuracy_score\n",
        "\n",
        "# Load Breast Cancer dataset\n",
        "cancer = load_breast_cancer()\n",
        "X, y = cancer.data, cancer.target\n",
        "\n",
        "# Split into training and testing sets\n",
        "X_train, X_test, y_train, y_test = train_test_split(X, y, test_size=0.3, random_state=42)\n",
        "\n",
        "# Train SVM with different kernels\n",
        "kernels = ['linear', 'poly', 'rbf']\n",
        "for kernel in kernels:\n",
        "    clf = SVC(kernel=kernel, random_state=42)\n",
        "    clf.fit(X_train, y_train)\n",
        "    y_pred = clf.predict(X_test)\n",
        "    accuracy = accuracy_score(y_test, y_pred)\n",
        "    print(f\"Accuracy with {kernel} kernel: {accuracy:.4f}\")"
      ],
      "metadata": {
        "colab": {
          "base_uri": "https://localhost:8080/"
        },
        "id": "41pyWQ1W6R62",
        "outputId": "ca84267d-a11b-4b6d-d92d-8e1f84fc5880"
      },
      "execution_count": 17,
      "outputs": [
        {
          "output_type": "stream",
          "name": "stdout",
          "text": [
            "Accuracy with linear kernel: 0.9649\n",
            "Accuracy with poly kernel: 0.9415\n",
            "Accuracy with rbf kernel: 0.9357\n"
          ]
        }
      ]
    },
    {
      "cell_type": "code",
      "source": [
        "#38. Write a Python program to train an SVM Classifier using Stratified K-Fold Cross-Validation and compute the average accuracy.\n",
        "from sklearn.datasets import load_iris\n",
        "from sklearn.model_selection import StratifiedKFold\n",
        "from sklearn.svm import SVC\n",
        "from sklearn.metrics import accuracy_score\n",
        "import numpy as np\n",
        "\n",
        "# Load Iris dataset\n",
        "iris = load_iris()\n",
        "X, y = iris.data, iris.target\n",
        "\n",
        "# Initialize Stratified K-Fold\n",
        "skf = StratifiedKFold(n_splits=5, shuffle=True, random_state=42)\n",
        "accuracies = []\n",
        "\n",
        "# Train SVM with Stratified K-Fold\n",
        "clf = SVC(kernel='rbf', random_state=42)\n",
        "for train_idx, test_idx in skf.split(X, y):\n",
        "    X_train, X_test = X[train_idx], X[test_idx]\n",
        "    y_train, y_test = y[train_idx], y[test_idx]\n",
        "    clf.fit(X_train, y_train)\n",
        "    y_pred = clf.predict(X_test)\n",
        "    accuracies.append(accuracy_score(y_test, y_pred))\n",
        "\n",
        "# Print average accuracy\n",
        "print(f\"Average Accuracy with Stratified K-Fold: {np.mean(accuracies):.4f}\")"
      ],
      "metadata": {
        "colab": {
          "base_uri": "https://localhost:8080/"
        },
        "id": "tFDSrfRu6XPn",
        "outputId": "914079e8-0f8c-45de-925e-827d46f886e1"
      },
      "execution_count": 18,
      "outputs": [
        {
          "output_type": "stream",
          "name": "stdout",
          "text": [
            "Average Accuracy with Stratified K-Fold: 0.9667\n"
          ]
        }
      ]
    },
    {
      "cell_type": "code",
      "source": [
        "#39. Write a Python program to train a Naïve Bayes classifier using different prior probabilities and compare performance.\n",
        "from sklearn.datasets import load_breast_cancer\n",
        "from sklearn.model_selection import train_test_split\n",
        "from sklearn.naive_bayes import GaussianNB\n",
        "from sklearn.metrics import accuracy_score\n",
        "import numpy as np\n",
        "\n",
        "# Load Breast Cancer dataset\n",
        "cancer = load_breast_cancer()\n",
        "X, y = cancer.data, cancer.target\n",
        "\n",
        "# Split into training and testing sets\n",
        "X_train, X_test, y_train, y_test = train_test_split(X, y, test_size=0.3, random_state=42)\n",
        "\n",
        "# Define prior probabilities\n",
        "priors_list = [[0.5, 0.5], [0.7, 0.3], [0.3, 0.7]]\n",
        "\n",
        "# Train Naïve Bayes with different priors\n",
        "for priors in priors_list:\n",
        "    clf = GaussianNB(priors=priors)\n",
        "    clf.fit(X_train, y_train)\n",
        "    y_pred = clf.predict(X_test)\n",
        "    accuracy = accuracy_score(y_test, y_pred)\n",
        "    print(f\"Accuracy with Priors {priors}: {accuracy:.4f}\")"
      ],
      "metadata": {
        "colab": {
          "base_uri": "https://localhost:8080/"
        },
        "id": "oXTN250f6cjq",
        "outputId": "818fd7f3-ac4e-4156-8bcb-4cb263c30d4d"
      },
      "execution_count": 19,
      "outputs": [
        {
          "output_type": "stream",
          "name": "stdout",
          "text": [
            "Accuracy with Priors [0.5, 0.5]: 0.9415\n",
            "Accuracy with Priors [0.7, 0.3]: 0.9357\n",
            "Accuracy with Priors [0.3, 0.7]: 0.9474\n"
          ]
        }
      ]
    },
    {
      "cell_type": "code",
      "source": [
        "#40. Write a Python program to perform Recursive Feature Elimination (RFE) before training an SVM Classifier and compare accuracy.\n",
        "from sklearn.datasets import load_breast_cancer\n",
        "from sklearn.model_selection import train_test_split\n",
        "from sklearn.svm import SVC\n",
        "from sklearn.feature_selection import RFE\n",
        "from sklearn.metrics import accuracy_score\n",
        "\n",
        "# Load Breast Cancer dataset\n",
        "cancer = load_breast_cancer()\n",
        "X, y = cancer.data, cancer.target\n",
        "\n",
        "# Split into training and testing sets\n",
        "X_train, X_test, y_train, y_test = train_test_split(X, y, test_size=0.3, random_state=42)\n",
        "\n",
        "# Train SVM without RFE\n",
        "clf_no_rfe = SVC(kernel='rbf', random_state=42)\n",
        "clf_no_rfe.fit(X_train, y_train)\n",
        "y_pred_no_rfe = clf_no_rfe.predict(X_test)\n",
        "accuracy_no_rfe = accuracy_score(y_test, y_pred_no_rfe)\n",
        "\n",
        "# Perform RFE\n",
        "clf = SVC(kernel='linear', random_state=42)  # RFE requires linear kernel\n",
        "rfe = RFE(clf, n_features_to_select=10)\n",
        "X_train_rfe = rfe.fit_transform(X_train, y_train)\n",
        "X_test_rfe = rfe.transform(X_test)\n",
        "\n",
        "# Train SVM with RFE\n",
        "clf_rfe = SVC(kernel='rbf', random_state=42)\n",
        "clf_rfe.fit(X_train_rfe, y_train)\n",
        "y_pred_rfe = clf_rfe.predict(X_test_rfe)\n",
        "accuracy_rfe = accuracy_score(y_test, y_pred_rfe)\n",
        "\n",
        "# Print accuracies\n",
        "print(f\"Accuracy without RFE: {accuracy_no_rfe:.4f}\")\n",
        "print(f\"Accuracy with RFE: {accuracy_rfe:.4f}\")"
      ],
      "metadata": {
        "colab": {
          "base_uri": "https://localhost:8080/"
        },
        "id": "FEko5Hs86hX9",
        "outputId": "fe28e870-5679-4b29-c7ee-5faf5de3631a"
      },
      "execution_count": 20,
      "outputs": [
        {
          "output_type": "stream",
          "name": "stdout",
          "text": [
            "Accuracy without RFE: 0.9357\n",
            "Accuracy with RFE: 0.9064\n"
          ]
        }
      ]
    },
    {
      "cell_type": "code",
      "source": [
        "#41. Write a Python program to train an SVM Classifier and evaluate its performance using Precision, Recall, and F1-Score instead of accuracy.\n",
        "from sklearn.datasets import load_breast_cancer\n",
        "from sklearn.model_selection import train_test_split\n",
        "from sklearn.svm import SVC\n",
        "from sklearn.metrics import precision_score, recall_score, f1_score\n",
        "\n",
        "# Load Breast Cancer dataset\n",
        "cancer = load_breast_cancer()\n",
        "X, y = cancer.data, cancer.target\n",
        "\n",
        "# Split into training and testing sets\n",
        "X_train, X_test, y_train, y_test = train_test_split(X, y, test_size=0.3, random_state=42)\n",
        "\n",
        "# Train SVM Classifier\n",
        "clf = SVC(kernel='rbf', random_state=42)\n",
        "clf.fit(X_train, y_train)\n",
        "\n",
        "# Predict and evaluate metrics\n",
        "y_pred = clf.predict(X_test)\n",
        "precision = precision_score(y_test, y_pred)\n",
        "recall = recall_score(y_test, y_pred)\n",
        "f1 = f1_score(y_test, y_pred)\n",
        "\n",
        "# Print metrics\n",
        "print(f\"Precision: {precision:.4f}\")\n",
        "print(f\"Recall: {recall:.4f}\")\n",
        "print(f\"F1-Score: {f1:.4f}\")"
      ],
      "metadata": {
        "colab": {
          "base_uri": "https://localhost:8080/"
        },
        "id": "sg34Z24U6mhA",
        "outputId": "48342eba-9038-47a9-dfff-4eb230610b8f"
      },
      "execution_count": 21,
      "outputs": [
        {
          "output_type": "stream",
          "name": "stdout",
          "text": [
            "Precision: 0.9076\n",
            "Recall: 1.0000\n",
            "F1-Score: 0.9515\n"
          ]
        }
      ]
    },
    {
      "cell_type": "code",
      "source": [
        "#42. Write a Python program to train a Naïve Bayes Classifier and evaluate its performance using Log Loss (Cross-Entropy Loss).\n",
        "from sklearn.datasets import load_breast_cancer\n",
        "from sklearn.model_selection import train_test_split\n",
        "from sklearn.naive_bayes import GaussianNB\n",
        "from sklearn.metrics import log_loss\n",
        "\n",
        "# Load Breast Cancer dataset\n",
        "cancer = load_breast_cancer()\n",
        "X, y = cancer.data, cancer.target\n",
        "\n",
        "# Split into training and testing sets\n",
        "X_train, X_test, y_train, y_test = train_test_split(X, y, test_size=0.3, random_state=42)\n",
        "\n",
        "# Train Gaussian Naïve Bayes\n",
        "clf = GaussianNB()\n",
        "clf.fit(X_train, y_train)\n",
        "\n",
        "# Predict probabilities and evaluate log loss\n",
        "y_prob = clf.predict_proba(X_test)\n",
        "logloss = log_loss(y_test, y_prob)\n",
        "print(f\"Log Loss (Cross-Entropy Loss): {logloss:.4f}\")"
      ],
      "metadata": {
        "colab": {
          "base_uri": "https://localhost:8080/"
        },
        "id": "OFGzaoTl6sPe",
        "outputId": "5d18f76e-0b88-4bc8-a57c-911031dcff85"
      },
      "execution_count": 22,
      "outputs": [
        {
          "output_type": "stream",
          "name": "stdout",
          "text": [
            "Log Loss (Cross-Entropy Loss): 0.4899\n"
          ]
        }
      ]
    },
    {
      "cell_type": "code",
      "source": [
        "#43. Write a Python program to train an SVM Classifier and visualize the Confusion Matrix using seaborn.\n",
        "from sklearn.datasets import load_breast_cancer\n",
        "from sklearn.model_selection import train_test_split\n",
        "from sklearn.svm import SVC\n",
        "from sklearn.metrics import confusion_matrix\n",
        "import seaborn as sns\n",
        "import matplotlib.pyplot as plt\n",
        "\n",
        "# Load Breast Cancer dataset\n",
        "cancer = load_breast_cancer()\n",
        "X, y = cancer.data, cancer.target\n",
        "\n",
        "# Split into training and testing sets\n",
        "X_train, X_test, y_train, y_test = train_test_split(X, y, test_size=0.3, random_state=42)\n",
        "\n",
        "# Train SVM Classifier\n",
        "clf = SVC(kernel='rbf', random_state=42)\n",
        "clf.fit(X_train, y_train)\n",
        "\n",
        "# Predict and compute confusion matrix\n",
        "y_pred = clf.predict(X_test)\n",
        "cm = confusion_matrix(y_test, y_pred)\n",
        "\n",
        "# Visualize confusion matrix\n",
        "sns.heatmap(cm, annot=True, fmt='d', cmap='Blues', xticklabels=cancer.target_names, yticklabels=cancer.target_names)\n",
        "plt.xlabel('Predicted')\n",
        "plt.ylabel('Actual')\n",
        "plt.title('Confusion Matrix for SVM Classifier')\n",
        "plt.show()"
      ],
      "metadata": {
        "colab": {
          "base_uri": "https://localhost:8080/",
          "height": 472
        },
        "id": "lB5KLyRA6x8m",
        "outputId": "5c0b185d-ce56-477a-ce60-e744b24cdbe5"
      },
      "execution_count": 23,
      "outputs": [
        {
          "output_type": "display_data",
          "data": {
            "text/plain": [
              "<Figure size 640x480 with 2 Axes>"
            ],
            "image/png": "[encoded data removed]"
          },
          "metadata": {}
        }
      ]
    },
    {
      "cell_type": "code",
      "source": [
        "#44. Write a Python program to train an SVM Regressor (SVR) and evaluate its performance using Mean Absolute Error (MAE) instead of MSE.\n",
        "from sklearn.datasets import fetch_california_housing\n",
        "from sklearn.model_selection import train_test_split\n",
        "from sklearn.svm import SVR\n",
        "from sklearn.metrics import mean_absolute_error\n",
        "from sklearn.preprocessing import StandardScaler\n",
        "\n",
        "# Load California Housing dataset\n",
        "housing = fetch_california_housing()\n",
        "X, y = housing.data, housing.target\n",
        "\n",
        "# Split into training and testing sets\n",
        "X_train, X_test, y_train, y_test = train_test_split(X, y, test_size=0.3, random_state=42)\n",
        "\n",
        "# Scale features\n",
        "scaler = StandardScaler()\n",
        "X_train_scaled = scaler.fit_transform(X_train)\n",
        "X_test_scaled = scaler.transform(X_test)\n",
        "\n",
        "# Train SVR\n",
        "reg = SVR(kernel='rbf')\n",
        "reg.fit(X_train_scaled, y_train)\n",
        "\n",
        "# Predict and evaluate MAE\n",
        "y_pred = reg.predict(X_test_scaled)\n",
        "mae = mean_absolute_error(y_test, y_pred)\n",
        "print(f\"Mean Absolute Error: {mae:.4f}\")"
      ],
      "metadata": {
        "colab": {
          "base_uri": "https://localhost:8080/"
        },
        "id": "m5_2sB_862za",
        "outputId": "48f50e17-d408-4972-979b-31858d29a27a"
      },
      "execution_count": 24,
      "outputs": [
        {
          "output_type": "stream",
          "name": "stdout",
          "text": [
            "Mean Absolute Error: 0.3972\n"
          ]
        }
      ]
    },
    {
      "cell_type": "code",
      "source": [
        "#45. Write a Python program to train a Naïve Bayes Classifier and evaluate its performance using the ROC-AUC score.\n",
        "from sklearn.datasets import load_breast_cancer\n",
        "from sklearn.model_selection import train_test_split\n",
        "from sklearn.naive_bayes import GaussianNB\n",
        "from sklearn.metrics import roc_auc_score\n",
        "\n",
        "# Load Breast Cancer dataset\n",
        "cancer = load_breast_cancer()\n",
        "X, y = cancer.data, cancer.target\n",
        "\n",
        "# Split into training and testing sets\n",
        "X_train, X_test, y_train, y_test = train_test_split(X, y, test_size=0.3, random_state=42)\n",
        "\n",
        "# Train Gaussian Naïve Bayes\n",
        "clf = GaussianNB()\n",
        "clf.fit(X_train, y_train)\n",
        "\n",
        "# Predict probabilities and compute ROC-AUC\n",
        "y_prob = clf.predict_proba(X_test)[:, 1]\n",
        "roc_auc = roc_auc_score(y_test, y_prob)\n",
        "print(f\"ROC-AUC Score: {roc_auc:.4f}\")"
      ],
      "metadata": {
        "colab": {
          "base_uri": "https://localhost:8080/"
        },
        "id": "up2fFHx068Mg",
        "outputId": "a2015b55-81ad-44ff-89f3-df981b8e591e"
      },
      "execution_count": 25,
      "outputs": [
        {
          "output_type": "stream",
          "name": "stdout",
          "text": [
            "ROC-AUC Score: 0.9922\n"
          ]
        }
      ]
    },
    {
      "cell_type": "code",
      "source": [
        "#46. Write a Python program to train an SVM Classifier and visualize the Precision-Recall Curve.\n",
        "from sklearn.datasets import load_breast_cancer\n",
        "from sklearn.model_selection import train_test_split\n",
        "from sklearn.svm import SVC\n",
        "from sklearn.metrics import precision_recall_curve, PrecisionRecallDisplay\n",
        "import matplotlib.pyplot as plt\n",
        "\n",
        "# Load Breast Cancer dataset\n",
        "cancer = load_breast_cancer()\n",
        "X, y = cancer.data, cancer.target\n",
        "\n",
        "# Split into training and testing sets\n",
        "X_train, X_test, y_train, y_test = train_test_split(X, y, test_size=0.3, random_state=42)\n",
        "\n",
        "# Train SVM Classifier\n",
        "clf = SVC(kernel='rbf', probability=True, random_state=42)\n",
        "clf.fit(X_train, y_train)\n",
        "\n",
        "# Predict probabilities and plot Precision-Recall Curve\n",
        "y_prob = clf.predict_proba(X_test)[:, 1]\n",
        "precision, recall, _ = precision_recall_curve(y_test, y_prob)\n",
        "disp = PrecisionRecallDisplay(precision=precision, recall=recall)\n",
        "disp.plot()\n",
        "plt.title('Precision-Recall Curve for SVM Classifier')\n",
        "plt.show()"
      ],
      "metadata": {
        "colab": {
          "base_uri": "https://localhost:8080/",
          "height": 472
        },
        "id": "Ep-0fr8-7EbL",
        "outputId": "a9a63200-cdb7-4d0c-ce9b-1c4406bf8a84"
      },
      "execution_count": 26,
      "outputs": [
        {
          "output_type": "display_data",
          "data": {
            "text/plain": [
              "<Figure size 640x480 with 1 Axes>"
            ],
            "image/png": "[encoded data removed]"
          },
          "metadata": {}
        }
      ]
    },
    {
      "cell_type": "code",
      "source": [],
      "metadata": {
        "id": "6cPP50mT7LFo"
      },
      "execution_count": null,
      "outputs": []
    }
  ]
}